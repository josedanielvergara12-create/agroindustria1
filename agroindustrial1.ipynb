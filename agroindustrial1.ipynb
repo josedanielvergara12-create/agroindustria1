{
  "nbformat": 4,
  "nbformat_minor": 0,
  "metadata": {
    "colab": {
      "provenance": [],
      "authorship_tag": "ABX9TyNhuc+rmPNi4g2Z3MLm7DsU",
      "include_colab_link": true
    },
    "kernelspec": {
      "name": "python3",
      "display_name": "Python 3"
    },
    "language_info": {
      "name": "python"
    }
  },
  "cells": [
    {
      "cell_type": "markdown",
      "metadata": {
        "id": "view-in-github",
        "colab_type": "text"
      },
      "source": [
        "<a href=\"https://colab.research.google.com/github/josedanielvergara12-create/agroindustria1/blob/main/agroindustrial1.ipynb\" target=\"_parent\"><img src=\"https://colab.research.google.com/assets/colab-badge.svg\" alt=\"Open In Colab\"/></a>"
      ]
    },
    {
      "cell_type": "code",
      "execution_count": null,
      "metadata": {
        "id": "UqpSrmoc0q31"
      },
      "outputs": [],
      "source": []
    },
    {
      "cell_type": "code",
      "metadata": {
        "colab": {
          "base_uri": "https://localhost:8080/"
        },
        "id": "c6176da9",
        "outputId": "cd6df317-bc5f-4359-f921-a804d5360823"
      },
      "source": [
        "def sumar_dos_numeros(numero1, numero2):\n",
        "  \"\"\"\n",
        "  Esta función suma dos números y devuelve el resultado.\n",
        "\n",
        "  Args:\n",
        "    numero1: El primer número.\n",
        "    numero2: El segundo número.\n",
        "\n",
        "  Returns:\n",
        "    La suma de numero1 y numero2.\n",
        "  \"\"\"\n",
        "  return numero1 + numero2\n",
        "\n",
        "# Ejemplo de uso:\n",
        "num1 = 5\n",
        "num2 = 3\n",
        "resultado = sumar_dos_numeros(num1, num2)\n",
        "print(f\"La suma de {num1} y {num2} es: {resultado}\")"
      ],
      "execution_count": 1,
      "outputs": [
        {
          "output_type": "stream",
          "name": "stdout",
          "text": [
            "La suma de 5 y 3 es: 8\n"
          ]
        }
      ]
    },
    {
      "cell_type": "markdown",
      "metadata": {
        "id": "aec83545"
      },
      "source": [
        "Este código Python define una función llamada `sumar_dos_numeros` que toma dos argumentos, `numero1` y `numero2`, y devuelve su suma.\n",
        "\n",
        "**Explicación detallada:**\n",
        "\n",
        "1.  **`def sumar_dos_numeros(numero1, numero2):`**: Define la función `sumar_dos_numeros` que acepta dos parámetros.\n",
        "2.  **Docstring (`\"\"\"...\"\"\"`)**: Proporciona una descripción de la función, incluyendo sus argumentos (`Args`) y lo que devuelve (`Returns`).\n",
        "3.  **`return numero1 + numero2`**: Realiza la suma de los dos números de entrada y devuelve el resultado.\n",
        "4.  **Ejemplo de uso**:\n",
        "    *   `num1 = 5` y `num2 = 3`: Se asignan valores a las variables.\n",
        "    *   `resultado = sumar_dos_numeros(num1, num2)`: Se llama a la función con los valores de `num1` y `num2`, y el resultado se guarda en la variable `resultado`.\n",
        "    *   `print(f\"La suma de {num1} y {num2} es: {resultado}\")`: Imprime el resultado de la suma en la consola."
      ]
    },
    {
      "cell_type": "code",
      "metadata": {
        "colab": {
          "base_uri": "https://localhost:8080/"
        },
        "id": "3ce34056",
        "outputId": "200a0815-8fbe-464b-961c-681e91a92d7e"
      },
      "source": [
        "# Definimos dos números para realizar las operaciones\n",
        "a = 10\n",
        "b = 5\n",
        "\n",
        "# Suma\n",
        "suma = a + b\n",
        "print(f\"Suma: {a} + {b} = {suma}\")\n",
        "\n",
        "# Resta\n",
        "resta = a - b\n",
        "print(f\"Resta: {a} - {b} = {resta}\")\n",
        "\n",
        "# Multiplicación\n",
        "multiplicacion = a * b\n",
        "print(f\"Multiplicación: {a} * {b} = {multiplicacion}\")\n",
        "\n",
        "# División\n",
        "division = a / b\n",
        "print(f\"División: {a} / {b} = {division}\")\n",
        "\n",
        "# División entera (floor division)\n",
        "division_entera = a // b\n",
        "print(f\"División entera: {a} // {b} = {division_entera}\")\n",
        "\n",
        "# Módulo (resto de la división)\n",
        "modulo = a % b\n",
        "print(f\"Módulo: {a} % {b} = {modulo}\")\n",
        "\n",
        "# Potencia\n",
        "potencia = a ** b\n",
        "print(f\"Potencia: {a} ** {b} = {potencia}\")\n",
        "\n",
        "# Puedes cambiar los valores de 'a' y 'b' para probar con otros números."
      ],
      "execution_count": 2,
      "outputs": [
        {
          "output_type": "stream",
          "name": "stdout",
          "text": [
            "Suma: 10 + 5 = 15\n",
            "Resta: 10 - 5 = 5\n",
            "Multiplicación: 10 * 5 = 50\n",
            "División: 10 / 5 = 2.0\n",
            "División entera: 10 // 5 = 2\n",
            "Módulo: 10 % 5 = 0\n",
            "Potencia: 10 ** 5 = 100000\n"
          ]
        }
      ]
    },
    {
      "cell_type": "markdown",
      "metadata": {
        "id": "8a5cc159"
      },
      "source": [
        "Aquí tienes la explicación del código que realiza las operaciones aritméticas básicas en Python, línea por línea:\n",
        "\n",
        "1.  `# Definimos dos números para realizar las operaciones`: Esta línea es un comentario. Los comentarios en Python comienzan con `#` y son ignorados por el intérprete; se usan para hacer el código más legible y explicar su propósito. En este caso, indica que las siguientes líneas definirán los números que se usarán.\n",
        "2.  `a = 10`: Asigna el valor entero `10` a la variable `a`.\n",
        "3.  `b = 5`: Asigna el valor entero `5` a la variable `b`.\n",
        "4.  `# Suma`: Otro comentario que indica que la siguiente sección se refiere a la operación de suma.\n",
        "5.  `suma = a + b`: Realiza la operación de suma entre los valores de las variables `a` y `b` (10 + 5) y asigna el resultado (`15`) a la variable `suma`.\n",
        "6.  `print(f\"Suma: {a} + {b} = {suma}\")`: Imprime una línea en la consola. Utiliza una f-string para incluir los valores de las variables `a`, `b`, y `suma` directamente en la cadena de texto. El resultado que verás es \"Suma: 10 + 5 = 15\".\n",
        "7.  `# Resta`: Comentario para indicar la operación de resta.\n",
        "8.  `resta = a - b`: Realiza la operación de resta entre `a` y `b` (10 - 5) y asigna el resultado (`5`) a la variable `resta`.\n",
        "9.  `print(f\"Resta: {a} - {b} = {resta}\")`: Imprime la línea para la resta, mostrando \"Resta: 10 - 5 = 5\".\n",
        "10. `# Multiplicación`: Comentario para la operación de multiplicación.\n",
        "11. `multiplicacion = a * b`: Realiza la operación de multiplicación entre `a` y `b` (10 * 5) y asigna el resultado (`50`) a la variable `multiplicacion`.\n",
        "12. `print(f\"Multiplicación: {a} * {b} = {multiplicacion}\")`: Imprime la línea para la multiplicación, mostrando \"Multiplicación: 10 * 5 = 50\".\n",
        "13. `# División`: Comentario para la operación de división.\n",
        "14. `division = a / b`: Realiza la operación de división entre `a` y `b` (10 / 5) y asigna el resultado (`2.0`) a la variable `division`. En Python 3, la división con `/` siempre devuelve un número de punto flotante (float), incluso si el resultado es un número entero.\n",
        "15. `print(f\"División: {a} / {b} = {division}\")`: Imprime la línea para la división, mostrando \"División: 10 / 5 = 2.0\".\n",
        "16. `# División entera (floor division)`: Comentario para la división entera.\n",
        "17. `division_entera = a // b`: Realiza la división entera (también conocida como \"floor division\") entre `a` y `b` (10 // 5). Esta operación divide los números y devuelve la parte entera del resultado, truncando cualquier decimal. Asigna el resultado (`2`) a la variable `division_entera`.\n",
        "18. `print(f\"División entera: {a} // {b} = {division_entera}\")`: Imprime la línea para la división entera, mostrando \"División entera: 10 // 5 = 2\".\n",
        "19. `# Módulo (resto de la división)`: Comentario para la operación de módulo.\n",
        "20. `modulo = a % b`: Realiza la operación de módulo entre `a` y `b` (10 % 5). Esta operación devuelve el resto de la división de `a` por `b`. Asigna el resultado (`0`) a la variable `modulo`.\n",
        "21. `print(f\"Módulo: {a} % {b} = {modulo}\")`: Imprime la línea para el módulo, mostrando \"Módulo: 10 % 5 = 0\".\n",
        "22. `# Potencia`: Comentario para la operación de potencia.\n",
        "23. `potencia = a ** b`: Realiza la operación de potencia, elevando `a` a la potencia de `b` (10 elevado a la 5, que es 10 * 10 * 10 * 10 * 10). Asigna el resultado (`100000`) a la variable `potencia`.\n",
        "24. `print(f\"Potencia: {a} ** {b} = {potencia}\")`: Imprime la línea para la potencia, mostrando \"Potencia: 10 ** 5 = 100000\".\n",
        "25. `# Puedes cambiar los valores de 'a' y 'b' para probar con otros números.`: Otro comentario que sugiere al usuario que puede modificar los valores de `a` y `b` para experimentar con las operaciones."
      ]
    }
  ]
}