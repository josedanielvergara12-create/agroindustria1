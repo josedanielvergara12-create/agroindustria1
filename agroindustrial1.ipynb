{
  "nbformat": 4,
  "nbformat_minor": 0,
  "metadata": {
    "colab": {
      "provenance": [],
      "authorship_tag": "ABX9TyPncd1tE0HkbR+HjIL2s9en",
      "include_colab_link": true
    },
    "kernelspec": {
      "name": "python3",
      "display_name": "Python 3"
    },
    "language_info": {
      "name": "python"
    }
  },
  "cells": [
    {
      "cell_type": "markdown",
      "metadata": {
        "id": "view-in-github",
        "colab_type": "text"
      },
      "source": [
        "<a href=\"https://colab.research.google.com/github/josedanielvergara12-create/agroindustria1/blob/main/agroindustrial1.ipynb\" target=\"_parent\"><img src=\"https://colab.research.google.com/assets/colab-badge.svg\" alt=\"Open In Colab\"/></a>"
      ]
    },
    {
      "cell_type": "code",
      "execution_count": null,
      "metadata": {
        "id": "UqpSrmoc0q31"
      },
      "outputs": [],
      "source": []
    },
    {
      "cell_type": "code",
      "metadata": {
        "colab": {
          "base_uri": "https://localhost:8080/"
        },
        "id": "c6176da9",
        "outputId": "cd6df317-bc5f-4359-f921-a804d5360823"
      },
      "source": [
        "def sumar_dos_numeros(numero1, numero2):\n",
        "  \"\"\"\n",
        "  Esta función suma dos números y devuelve el resultado.\n",
        "\n",
        "  Args:\n",
        "    numero1: El primer número.\n",
        "    numero2: El segundo número.\n",
        "\n",
        "  Returns:\n",
        "    La suma de numero1 y numero2.\n",
        "  \"\"\"\n",
        "  return numero1 + numero2\n",
        "\n",
        "# Ejemplo de uso:\n",
        "num1 = 5\n",
        "num2 = 3\n",
        "resultado = sumar_dos_numeros(num1, num2)\n",
        "print(f\"La suma de {num1} y {num2} es: {resultado}\")"
      ],
      "execution_count": 1,
      "outputs": [
        {
          "output_type": "stream",
          "name": "stdout",
          "text": [
            "La suma de 5 y 3 es: 8\n"
          ]
        }
      ]
    },
    {
      "cell_type": "markdown",
      "metadata": {
        "id": "aec83545"
      },
      "source": [
        "Este código Python define una función llamada `sumar_dos_numeros` que toma dos argumentos, `numero1` y `numero2`, y devuelve su suma.\n",
        "\n",
        "**Explicación detallada:**\n",
        "\n",
        "1.  **`def sumar_dos_numeros(numero1, numero2):`**: Define la función `sumar_dos_numeros` que acepta dos parámetros.\n",
        "2.  **Docstring (`\"\"\"...\"\"\"`)**: Proporciona una descripción de la función, incluyendo sus argumentos (`Args`) y lo que devuelve (`Returns`).\n",
        "3.  **`return numero1 + numero2`**: Realiza la suma de los dos números de entrada y devuelve el resultado.\n",
        "4.  **Ejemplo de uso**:\n",
        "    *   `num1 = 5` y `num2 = 3`: Se asignan valores a las variables.\n",
        "    *   `resultado = sumar_dos_numeros(num1, num2)`: Se llama a la función con los valores de `num1` y `num2`, y el resultado se guarda en la variable `resultado`.\n",
        "    *   `print(f\"La suma de {num1} y {num2} es: {resultado}\")`: Imprime el resultado de la suma en la consola."
      ]
    }
  ]
}